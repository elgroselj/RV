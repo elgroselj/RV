{
 "cells": [
  {
   "cell_type": "code",
   "execution_count": 2,
   "metadata": {},
   "outputs": [],
   "source": [
    "from ex1_utils import gaussderiv\n",
    "import numpy as np\n",
    "import cv2"
   ]
  },
  {
   "cell_type": "code",
   "execution_count": 3,
   "metadata": {},
   "outputs": [],
   "source": [
    "# def lucaskanade(im1,im2,N):\n",
    "#     #im1−first image matrix(grayscale)\n",
    "#     #im2−second image matrix(grayscale)\n",
    "#     #n−size of the neighborhood(NxN)\n",
    "    \n",
    "    \n",
    "#     SIG = 0.5 #TODO\n",
    "#     Ix,Iy = gaussderiv(im1,SIG)\n",
    "#     It = im2-im1\n",
    "#     Ixy = np.dot(Ix,Iy)\n",
    "#     Ixx = np.dot(Ix,Ix)\n",
    "#     Iyy = np.dot(Iy,Iy)\n",
    "#     Ixt = np.dot(Ix,It)\n",
    "#     Iyt = np.dot(Iy,It)\n",
    "    \n",
    "#     kernel1 = np.ones((N,N), np.float32)\n",
    "#     suIxx = cv2.filter2D(src=Ixx, ddepth=-1, kernel=kernel1)\n",
    "#     cv2.imshow(\"suIxx\",suIxx)\n",
    "#     cv2.waitKey() \n",
    "#     cv2.destroyAllWindows() \n",
    "    \n",
    "    \n",
    "# im1 = np.ones((90,90), np.float32)/2\n",
    "# im2 = np.ones((90,90), np.float32)/3\n",
    "# lucaskanade(im1,im2,3)\n",
    "\n",
    "    \n"
   ]
  }
 ],
 "metadata": {
  "kernelspec": {
   "display_name": ".venv",
   "language": "python",
   "name": "python3"
  },
  "language_info": {
   "codemirror_mode": {
    "name": "ipython",
    "version": 3
   },
   "file_extension": ".py",
   "mimetype": "text/x-python",
   "name": "python",
   "nbconvert_exporter": "python",
   "pygments_lexer": "ipython3",
   "version": "3.11.4"
  }
 },
 "nbformat": 4,
 "nbformat_minor": 2
}
